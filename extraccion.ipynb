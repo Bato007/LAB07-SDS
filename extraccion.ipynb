{
 "cells": [
  {
   "cell_type": "code",
   "execution_count": null,
   "metadata": {},
   "outputs": [],
   "source": [
    "import numpy as np\n",
    "from sklearn.model_selection import train_test_split\n",
    "from keras.models import load_model, Sequential\n",
    "import tensorflow as tf\n",
    "from art.estimators.classification import KerasClassifier\n",
    "from art.attacks.extraction import CopycatCNN\n",
    "from keras.layers import Convolution2D, MaxPooling2D, Flatten, Dense\n",
    "\n",
    "tf.compat.v1.disable_eager_execution()\n",
    "\n",
    "DIMENSION = 256\n",
    "loaded_model = load_model('./target_model')\n",
    "x_stealed_loaded = np.load('x_val.npy')\n",
    "y_stealed_loaded = np.loadtxt('y_val.txt', delimiter=',')"
   ]
  },
  {
   "cell_type": "code",
   "execution_count": null,
   "metadata": {},
   "outputs": [],
   "source": [
    "X_train_s, X_test_s, y_train_s, y_test_s = train_test_split(x_stealed_loaded, y_stealed_loaded, test_size=0.30, random_state=1)"
   ]
  },
  {
   "attachments": {},
   "cell_type": "markdown",
   "metadata": {},
   "source": [
    "# Ataque de extraccion"
   ]
  },
  {
   "cell_type": "code",
   "execution_count": null,
   "metadata": {},
   "outputs": [],
   "source": [
    "classifier = KerasClassifier(loaded_model)"
   ]
  },
  {
   "cell_type": "code",
   "execution_count": null,
   "metadata": {},
   "outputs": [],
   "source": [
    "copycat_cnn = CopycatCNN(\n",
    "  batch_size_fit=16,\n",
    "  batch_size_query=16,\n",
    "  nb_epochs=5,\n",
    "  nb_stolen=500,\n",
    "  classifier=classifier\n",
    ")"
   ]
  },
  {
   "cell_type": "code",
   "execution_count": null,
   "metadata": {},
   "outputs": [],
   "source": [
    "stolen_m = Sequential()\n",
    "stolen_m.add(Convolution2D(32, (3, 3), input_shape=(DIMENSION, DIMENSION, 3), activation='relu'))\n",
    "stolen_m.add(MaxPooling2D(pool_size=(2, 2)))\n",
    "stolen_m.add(Convolution2D(128, (3, 3), activation='relu'))\n",
    "stolen_m.add(MaxPooling2D(pool_size=(2, 2)))\n",
    "stolen_m.add(Flatten())\n",
    "stolen_m.add(Dense(512, activation='softplus'))\n",
    "stolen_m.add(Dense(25, activation='sigmoid'))\n",
    "\n",
    "stolen_m.compile(\n",
    "  optimizer=\"adam\",\n",
    "  loss=\"categorical_crossentropy\",\n",
    "  metrics=[\"accuracy\"]\n",
    ")"
   ]
  },
  {
   "cell_type": "code",
   "execution_count": null,
   "metadata": {},
   "outputs": [],
   "source": [
    "model_stolen = KerasClassifier(model=stolen_m)"
   ]
  },
  {
   "cell_type": "code",
   "execution_count": null,
   "metadata": {},
   "outputs": [],
   "source": [
    "stolen_classifier = copycat_cnn.extract(\n",
    "  x=X_train_s, \n",
    "  y=y_train_s, \n",
    "  thieved_classifier=model_stolen\n",
    ")"
   ]
  },
  {
   "cell_type": "code",
   "execution_count": null,
   "metadata": {},
   "outputs": [],
   "source": [
    "score_original = classifier._model.evaluate(\n",
    "  x=X_test_s,\n",
    "  y=y_test_s\n",
    ")\n",
    "\n",
    "score_stolen = stolen_classifier._model.evaluate(\n",
    "  x=X_test_s,\n",
    "  y=y_test_s\n",
    ")\n",
    "\n",
    "# Comparing test losses\n",
    "print(f\"Original test loss: {score_original[0]:.2f} \"  f\"vs stolen test loss: {score_stolen[0]:.2f}\")\n",
    "\n",
    "# Comparing test accuracies\n",
    "print(f\"Original test accuracy: {score_original[1]:.2f} \" f\"vs stolen test accuracy: {score_stolen[1]:.2f}\")"
   ]
  }
 ],
 "metadata": {
  "kernelspec": {
   "display_name": "Python 3",
   "language": "python",
   "name": "python3"
  },
  "language_info": {
   "codemirror_mode": {
    "name": "ipython",
    "version": 3
   },
   "file_extension": ".py",
   "mimetype": "text/x-python",
   "name": "python",
   "nbconvert_exporter": "python",
   "pygments_lexer": "ipython3",
   "version": "3.7.0"
  },
  "orig_nbformat": 4
 },
 "nbformat": 4,
 "nbformat_minor": 2
}
